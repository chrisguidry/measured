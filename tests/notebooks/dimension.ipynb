{
 "cells": [
  {
   "cell_type": "code",
   "execution_count": 1,
   "id": "198c05e0",
   "metadata": {},
   "outputs": [],
   "source": [
    "from measured import *"
   ]
  },
  {
   "cell_type": "code",
   "execution_count": 2,
   "id": "08b1c255",
   "metadata": {},
   "outputs": [
    {
     "data": {
      "text/html": [
       "<math><msup><mi>L</mi><mn></mn></msup></math>"
      ],
      "text/plain": [
       "Dimension(exponents=(0, 1, 0, 0, 0, 0, 0, 0, 0, 0), name='length', symbol='L')"
      ]
     },
     "execution_count": 2,
     "metadata": {},
     "output_type": "execute_result"
    }
   ],
   "source": [
    "Length"
   ]
  },
  {
   "cell_type": "code",
   "execution_count": 3,
   "id": "26648507",
   "metadata": {},
   "outputs": [
    {
     "data": {
      "text/html": [
       "<math><msup><mi>L</mi><mn>2</mn></msup></math>"
      ],
      "text/plain": [
       "Dimension(exponents=(0, 2, 0, 0, 0, 0, 0, 0, 0, 0), name='area', symbol='L²')"
      ]
     },
     "execution_count": 3,
     "metadata": {},
     "output_type": "execute_result"
    }
   ],
   "source": [
    "Area"
   ]
  },
  {
   "cell_type": "code",
   "execution_count": 4,
   "id": "96822a0b",
   "metadata": {},
   "outputs": [
    {
     "data": {
      "text/html": [
       "<math><msup><mi>L</mi><mn>3</mn></msup></math>"
      ],
      "text/plain": [
       "Dimension(exponents=(0, 3, 0, 0, 0, 0, 0, 0, 0, 0), name='volume', symbol='L³')"
      ]
     },
     "execution_count": 4,
     "metadata": {},
     "output_type": "execute_result"
    }
   ],
   "source": [
    "Volume"
   ]
  },
  {
   "cell_type": "code",
   "execution_count": 5,
   "id": "6925dc77",
   "metadata": {},
   "outputs": [
    {
     "data": {
      "text/html": [
       "<math><mfrac><mrow><msup><mi>L</mi><mn>3</mn></msup></mrow><mrow><msup><mi>T</mi><mn></mn></msup></mrow></mfrac></math>"
      ],
      "text/plain": [
       "Dimension(exponents=(0, 3, -1, 0, 0, 0, 0, 0, 0, 0), name='flow', symbol='L³⋅T⁻¹')"
      ]
     },
     "execution_count": 5,
     "metadata": {},
     "output_type": "execute_result"
    }
   ],
   "source": [
    "Volume / Time"
   ]
  },
  {
   "cell_type": "code",
   "execution_count": 6,
   "id": "74dc8753",
   "metadata": {},
   "outputs": [
    {
     "data": {
      "text/html": [
       "<math><mfrac><mrow><msup><mi>L</mi><mn>2</mn></msup><mo>⋅</mo><msup><mi>M</mi><mn></mn></msup></mrow><mrow><msup><mi>T</mi><mn></mn></msup><mo>⋅</mo><msup><mi>Q</mi><mn>2</mn></msup></mrow></mfrac></math>"
      ],
      "text/plain": [
       "Dimension(exponents=(0, 2, -1, 1, 0, -2, 0, 0, 0, 0), name='resistance', symbol='L²⋅T⁻¹⋅M⋅Q⁻²')"
      ]
     },
     "execution_count": 6,
     "metadata": {},
     "output_type": "execute_result"
    }
   ],
   "source": [
    "Resistance"
   ]
  },
  {
   "cell_type": "code",
   "execution_count": 7,
   "id": "d5d92db8",
   "metadata": {},
   "outputs": [
    {
     "data": {
      "text/html": [
       "<math><mfrac><mrow><msup><mi>T</mi><mn></mn></msup><mo>⋅</mo><msup><mi>Q</mi><mn>2</mn></msup></mrow><mrow><msup><mi>L</mi><mn>2</mn></msup><mo>⋅</mo><msup><mi>M</mi><mn></mn></msup></mrow></mfrac></math>"
      ],
      "text/plain": [
       "Dimension(exponents=(0, -2, 1, -1, 0, 2, 0, 0, 0, 0), name='conductance', symbol='L⁻²⋅T⋅M⁻¹⋅Q²')"
      ]
     },
     "execution_count": 7,
     "metadata": {},
     "output_type": "execute_result"
    }
   ],
   "source": [
    "Conductance"
   ]
  },
  {
   "cell_type": "code",
   "execution_count": 8,
   "id": "430fdfa2",
   "metadata": {},
   "outputs": [
    {
     "data": {
      "text/html": [
       "<math><mfrac><mrow><msup><mi>Q</mi><mn></mn></msup></mrow><mrow><msup><mi>T</mi><mn></mn></msup></mrow></mfrac></math>"
      ],
      "text/plain": [
       "Dimension(exponents=(0, 0, -1, 0, 0, 1, 0, 0, 0, 0), name='current', symbol='T⁻¹⋅Q')"
      ]
     },
     "execution_count": 8,
     "metadata": {},
     "output_type": "execute_result"
    }
   ],
   "source": [
    "Current"
   ]
  },
  {
   "cell_type": "code",
   "execution_count": 9,
   "id": "9ca7ff52",
   "metadata": {},
   "outputs": [
    {
     "data": {
      "text/html": [
       "<math><mfrac><mrow><msup><mi>L</mi><mn>3</mn></msup></mrow><mrow><msup><mi>T</mi><mn></mn></msup></mrow></mfrac></math>"
      ],
      "text/plain": [
       "Dimension(exponents=(0, 3, -1, 0, 0, 0, 0, 0, 0, 0), name='flow', symbol='L³⋅T⁻¹')"
      ]
     },
     "execution_count": 9,
     "metadata": {},
     "output_type": "execute_result"
    }
   ],
   "source": [
    "VolumetricFlow"
   ]
  },
  {
   "cell_type": "code",
   "execution_count": 10,
   "id": "1ce6e225",
   "metadata": {},
   "outputs": [
    {
     "data": {
      "text/html": [
       "<math><mfrac><mrow><mi>1</mi></mrow><mrow><msup><mi>T</mi><mn></mn></msup></mrow></mfrac></math>"
      ],
      "text/plain": [
       "Dimension(exponents=(0, 0, -1, 0, 0, 0, 0, 0, 0, 0), name='frequency', symbol='T⁻¹')"
      ]
     },
     "execution_count": 10,
     "metadata": {},
     "output_type": "execute_result"
    }
   ],
   "source": [
    "Frequency"
   ]
  }
 ],
 "metadata": {
  "kernelspec": {
   "display_name": "Python 3 (ipykernel)",
   "language": "python",
   "name": "python3"
  },
  "language_info": {
   "codemirror_mode": {
    "name": "ipython",
    "version": 3
   },
   "file_extension": ".py",
   "mimetype": "text/x-python",
   "name": "python",
   "nbconvert_exporter": "python",
   "pygments_lexer": "ipython3",
   "version": "3.10.4"
  }
 },
 "nbformat": 4,
 "nbformat_minor": 5
}
