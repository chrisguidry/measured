{
 "cells": [
  {
   "cell_type": "code",
   "execution_count": 7,
   "id": "e3b581f9",
   "metadata": {},
   "outputs": [],
   "source": [
    "from measured import *\n",
    "from measured.si import *\n",
    "from measured import physics"
   ]
  },
  {
   "cell_type": "code",
   "execution_count": 2,
   "id": "ebb59fda",
   "metadata": {},
   "outputs": [
    {
     "data": {
      "text/html": [
       "<math><mrow><mn>5</mn><mo></mo><mi>m</mi></mrow></math>"
      ],
      "text/plain": [
       "Quantity(magnitude=5, unit=Unit.named('meter'))"
      ]
     },
     "execution_count": 2,
     "metadata": {},
     "output_type": "execute_result"
    }
   ],
   "source": [
    "5 * Meter"
   ]
  },
  {
   "cell_type": "code",
   "execution_count": 3,
   "id": "58ab7069",
   "metadata": {},
   "outputs": [
    {
     "data": {
      "text/html": [
       "<math><mrow><mn>5</mn><mo></mo><mfrac><mrow><msup><mrow><mi>m</mi></mrow><mn></mn></msup></mrow><mrow><msup><mrow><mi>s</mi></mrow><mn></mn></msup></mrow></mfrac></mrow></math>"
      ],
      "text/plain": [
       "Quantity(magnitude=5, unit=Unit(prefix=Prefix(base=0, exponent=0), factors={Unit.named('meter'): 1, Unit.named('second'): -1}, dimension=Dimension(exponents=(0, 1, -1, 0, 0, 0, 0, 0, 0, 0), name='speed', symbol='L⋅T⁻¹'), name=None, symbol=None))"
      ]
     },
     "execution_count": 3,
     "metadata": {},
     "output_type": "execute_result"
    }
   ],
   "source": [
    "5 * Meter / Second"
   ]
  },
  {
   "cell_type": "code",
   "execution_count": 4,
   "id": "2265382a",
   "metadata": {},
   "outputs": [
    {
     "data": {
      "text/html": [
       "<math><mrow><mn>1.123455</mn><mo></mo><mfrac><mrow><msup><mrow><mi>k</mi><mi>m</mi></mrow><mn></mn></msup></mrow><mrow><msup><mrow><mi>s</mi></mrow><mn></mn></msup></mrow></mfrac></mrow></math>"
      ],
      "text/plain": [
       "Quantity(magnitude=1.123455, unit=Unit(prefix=Prefix(base=10, exponent=3), factors={Unit.named('meter'): 1, Unit.named('second'): -1}, dimension=Dimension(exponents=(0, 1, -1, 0, 0, 0, 0, 0, 0, 0), name='speed', symbol='L⋅T⁻¹'), name=None, symbol=None))"
      ]
     },
     "execution_count": 4,
     "metadata": {},
     "output_type": "execute_result"
    }
   ],
   "source": [
    "1.123455 * (Kilo*Meter) / Second"
   ]
  },
  {
   "cell_type": "code",
   "execution_count": 5,
   "id": "a4a45df9",
   "metadata": {},
   "outputs": [
    {
     "data": {
      "text/html": [
       "<math><mrow><mn>1.123455</mn><mo>±</mo><mn>0.04</mn><mo></mo><mfrac><mrow><msup><mrow><mi>k</mi><mi>m</mi></mrow><mn></mn></msup></mrow><mrow><msup><mrow><mi>s</mi></mrow><mn></mn></msup></mrow></mfrac></mrow></math>"
      ],
      "text/plain": [
       "Measurement(measurand=Quantity(magnitude=1.123455, unit=Unit(prefix=Prefix(base=10, exponent=3), factors={Unit.named('meter'): 1, Unit.named('second'): -1}, dimension=Dimension(exponents=(0, 1, -1, 0, 0, 0, 0, 0, 0, 0), name='speed', symbol='L⋅T⁻¹'), name=None, symbol=None)), uncertainty=0.04)"
      ]
     },
     "execution_count": 5,
     "metadata": {},
     "output_type": "execute_result"
    }
   ],
   "source": [
    "Measurement(1.123455 * (Kilo*Meter) / Second, uncertainty=0.04)"
   ]
  },
  {
   "cell_type": "code",
   "execution_count": 11,
   "id": "eea94816",
   "metadata": {},
   "outputs": [
    {
     "data": {
      "text/html": [
       "<math><mrow><mn>299792458</mn><mo></mo><mfrac><mrow><msup><mrow><mi>m</mi></mrow><mn></mn></msup></mrow><mrow><msup><mrow><mi>s</mi></mrow><mn></mn></msup></mrow></mfrac></mrow></math>"
      ],
      "text/plain": [
       "Quantity(magnitude=299792458, unit=Unit(prefix=Prefix(base=0, exponent=0), factors={Unit.named('meter'): 1, Unit.named('second'): -1}, dimension=Dimension(exponents=(0, 1, -1, 0, 0, 0, 0, 0, 0, 0), name='speed', symbol='L⋅T⁻¹'), name=None, symbol=None))"
      ]
     },
     "execution_count": 11,
     "metadata": {},
     "output_type": "execute_result"
    }
   ],
   "source": [
    "physics.c"
   ]
  },
  {
   "cell_type": "code",
   "execution_count": 13,
   "id": "c9f7ae83",
   "metadata": {},
   "outputs": [
    {
     "data": {
      "text/html": [
       "<math><mrow><mn>3.141592653589793</mn><mo></mo><mi>1</mi></mrow></math>"
      ],
      "text/plain": [
       "Quantity(magnitude=3.141592653589793, unit=Unit.named('one'))"
      ]
     },
     "execution_count": 13,
     "metadata": {},
     "output_type": "execute_result"
    }
   ],
   "source": [
    "physics.π"
   ]
  },
  {
   "cell_type": "code",
   "execution_count": 15,
   "id": "f41c635b",
   "metadata": {},
   "outputs": [
    {
     "data": {
      "text/html": [
       "<math><mrow><mn>1.0545718176461565e-34</mn><mo></mo><mfrac><mrow><msup><mrow><mi>m</mi></mrow><mn>2</mn></msup><mo>⋅</mo><msup><mrow><mi>kg</mi></mrow><mn></mn></msup></mrow><mrow><msup><mrow><mi>s</mi></mrow><mn></mn></msup></mrow></mfrac></mrow></math>"
      ],
      "text/plain": [
       "Quantity(magnitude=1.0545718176461565e-34, unit=Unit(prefix=Prefix(base=0, exponent=0), factors={Unit.named('meter'): 2, Unit.named('kilogram'): 1, Unit.named('second'): -1}, dimension=Dimension(exponents=(0, 2, -1, 1, 0, 0, 0, 0, 0, 0), name=None, symbol=None), name=None, symbol=None))"
      ]
     },
     "execution_count": 15,
     "metadata": {},
     "output_type": "execute_result"
    }
   ],
   "source": [
    "physics.ħ"
   ]
  }
 ],
 "metadata": {
  "kernelspec": {
   "display_name": "Python 3 (ipykernel)",
   "language": "python",
   "name": "python3"
  },
  "language_info": {
   "codemirror_mode": {
    "name": "ipython",
    "version": 3
   },
   "file_extension": ".py",
   "mimetype": "text/x-python",
   "name": "python",
   "nbconvert_exporter": "python",
   "pygments_lexer": "ipython3",
   "version": "3.10.4"
  }
 },
 "nbformat": 4,
 "nbformat_minor": 5
}
