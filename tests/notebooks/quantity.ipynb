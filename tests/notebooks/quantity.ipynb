{
 "cells": [
  {
   "cell_type": "code",
   "execution_count": 1,
   "id": "e3b581f9",
   "metadata": {},
   "outputs": [],
   "source": [
    "from measured import *\n",
    "from measured.iec import *\n",
    "from measured.si import *\n",
    "from measured import physics"
   ]
  },
  {
   "cell_type": "code",
   "execution_count": 2,
   "id": "ebb59fda",
   "metadata": {},
   "outputs": [
    {
     "data": {
      "text/html": [
       "<math><mrow><mn>5</mn><mo></mo><mi>m</mi></mrow></math>"
      ],
      "text/plain": [
       "5 m\n",
       "  5\n",
       "  m (m)\n",
       "    meter\n",
       "    L\n",
       "      length\n",
       "      Dimension(exponents=(0, 1, 0, 0, 0, 0, 0, 0, 0, 0), name='length', symbol='L')\n",
       "    Unit.named('meter')\n",
       "  Quantity(magnitude=5, unit=Unit.named('meter'))"
      ]
     },
     "execution_count": 2,
     "metadata": {},
     "output_type": "execute_result"
    }
   ],
   "source": [
    "5 * Meter"
   ]
  },
  {
   "cell_type": "code",
   "execution_count": 3,
   "id": "58ab7069",
   "metadata": {},
   "outputs": [
    {
     "data": {
      "text/html": [
       "<math><mrow><mn>5</mn><mo></mo><mfrac><mrow><msup><mrow><mi>m</mi></mrow><mn></mn></msup></mrow><mrow><msup><mrow><mi>s</mi></mrow><mn></mn></msup></mrow></mfrac></mrow></math>"
      ],
      "text/plain": [
       "5 m/s\n",
       "  5\n",
       "  m/s\n",
       "    L⋅T⁻¹\n",
       "      speed\n",
       "      Dimension(exponents=(0, 1, -1, 0, 0, 0, 0, 0, 0, 0), name='speed', symbol='L⋅T⁻¹')\n",
       "    Unit(prefix=Prefix(base=0, exponent=0), factors={Unit.named('meter'): 1, Unit.named('second'): -1}, dimension=Dimension(exponents=(0, 1, -1, 0, 0, 0, 0, 0, 0, 0), name='speed', symbol='L⋅T⁻¹'), name=None, symbol=None)\n",
       "  Quantity(magnitude=5, unit=Unit(prefix=Prefix(base=0, exponent=0), factors={Unit.named('meter'): 1, Unit.named('second'): -1}, dimension=Dimension(exponents=(0, 1, -1, 0, 0, 0, 0, 0, 0, 0), name='speed', symbol='L⋅T⁻¹'), name=None, symbol=None))"
      ]
     },
     "execution_count": 3,
     "metadata": {},
     "output_type": "execute_result"
    }
   ],
   "source": [
    "5 * Meter / Second"
   ]
  },
  {
   "cell_type": "code",
   "execution_count": 4,
   "id": "2265382a",
   "metadata": {},
   "outputs": [
    {
     "data": {
      "text/html": [
       "<math><mrow><mn>1.123455</mn><mo></mo><mfrac><mrow><msup><mrow><mi>k</mi><mi>m</mi></mrow><mn></mn></msup></mrow><mrow><msup><mrow><mi>s</mi></mrow><mn></mn></msup></mrow></mfrac></mrow></math>"
      ],
      "text/plain": [
       "1.123455 km/s\n",
       "  1.123455\n",
       "  km/s\n",
       "    L⋅T⁻¹\n",
       "      speed\n",
       "      Dimension(exponents=(0, 1, -1, 0, 0, 0, 0, 0, 0, 0), name='speed', symbol='L⋅T⁻¹')\n",
       "    Unit(prefix=Prefix(base=10, exponent=3), factors={Unit.named('meter'): 1, Unit.named('second'): -1}, dimension=Dimension(exponents=(0, 1, -1, 0, 0, 0, 0, 0, 0, 0), name='speed', symbol='L⋅T⁻¹'), name=None, symbol=None)\n",
       "  Quantity(magnitude=1.123455, unit=Unit(prefix=Prefix(base=10, exponent=3), factors={Unit.named('meter'): 1, Unit.named('second'): -1}, dimension=Dimension(exponents=(0, 1, -1, 0, 0, 0, 0, 0, 0, 0), name='speed', symbol='L⋅T⁻¹'), name=None, symbol=None))"
      ]
     },
     "execution_count": 4,
     "metadata": {},
     "output_type": "execute_result"
    }
   ],
   "source": [
    "1.123455 * (Kilo * Meter) / Second"
   ]
  },
  {
   "cell_type": "code",
   "execution_count": 5,
   "id": "a4a45df9",
   "metadata": {},
   "outputs": [
    {
     "data": {
      "text/html": [
       "<math><mrow><mn>1.123455</mn><mo>±</mo><mn>0.04</mn><mo></mo><mfrac><mrow><msup><mrow><mi>k</mi><mi>m</mi></mrow><mn></mn></msup></mrow><mrow><msup><mrow><mi>s</mi></mrow><mn></mn></msup></mrow></mfrac></mrow></math>"
      ],
      "text/plain": [
       "1.123455±0.04 km/s\n",
       "  1.123455 ±0.04\n",
       "  km/s\n",
       "    L⋅T⁻¹\n",
       "      speed\n",
       "      Dimension(exponents=(0, 1, -1, 0, 0, 0, 0, 0, 0, 0), name='speed', symbol='L⋅T⁻¹')\n",
       "    Unit(prefix=Prefix(base=10, exponent=3), factors={Unit.named('meter'): 1, Unit.named('second'): -1}, dimension=Dimension(exponents=(0, 1, -1, 0, 0, 0, 0, 0, 0, 0), name='speed', symbol='L⋅T⁻¹'), name=None, symbol=None)\n",
       "  Measurement(measurand=Quantity(magnitude=1.123455, unit=Unit(prefix=Prefix(base=10, exponent=3), factors={Unit.named('meter'): 1, Unit.named('second'): -1}, dimension=Dimension(exponents=(0, 1, -1, 0, 0, 0, 0, 0, 0, 0), name='speed', symbol='L⋅T⁻¹'), name=None, symbol=None)), uncertainty=0.04)"
      ]
     },
     "execution_count": 5,
     "metadata": {},
     "output_type": "execute_result"
    }
   ],
   "source": [
    "Measurement(1.123455 * (Kilo * Meter) / Second, uncertainty=0.04)"
   ]
  },
  {
   "cell_type": "code",
   "execution_count": 6,
   "id": "eea94816",
   "metadata": {},
   "outputs": [
    {
     "data": {
      "text/html": [
       "<math><mrow><mn>299792458</mn><mo></mo><mfrac><mrow><msup><mrow><mi>m</mi></mrow><mn></mn></msup></mrow><mrow><msup><mrow><mi>s</mi></mrow><mn></mn></msup></mrow></mfrac></mrow></math>"
      ],
      "text/plain": [
       "299792458 m/s\n",
       "  299792458\n",
       "  m/s\n",
       "    L⋅T⁻¹\n",
       "      speed\n",
       "      Dimension(exponents=(0, 1, -1, 0, 0, 0, 0, 0, 0, 0), name='speed', symbol='L⋅T⁻¹')\n",
       "    Unit(prefix=Prefix(base=0, exponent=0), factors={Unit.named('meter'): 1, Unit.named('second'): -1}, dimension=Dimension(exponents=(0, 1, -1, 0, 0, 0, 0, 0, 0, 0), name='speed', symbol='L⋅T⁻¹'), name=None, symbol=None)\n",
       "  Quantity(magnitude=299792458, unit=Unit(prefix=Prefix(base=0, exponent=0), factors={Unit.named('meter'): 1, Unit.named('second'): -1}, dimension=Dimension(exponents=(0, 1, -1, 0, 0, 0, 0, 0, 0, 0), name='speed', symbol='L⋅T⁻¹'), name=None, symbol=None))"
      ]
     },
     "execution_count": 6,
     "metadata": {},
     "output_type": "execute_result"
    }
   ],
   "source": [
    "physics.c"
   ]
  },
  {
   "cell_type": "code",
   "execution_count": 7,
   "id": "c9f7ae83",
   "metadata": {},
   "outputs": [
    {
     "data": {
      "text/html": [
       "<math><mrow><mn>3.141592653589793</mn><mo></mo><mi>1</mi></mrow></math>"
      ],
      "text/plain": [
       "3.141592653589793 1\n",
       "  3.141592653589793\n",
       "  1 (1)\n",
       "    one\n",
       "    1\n",
       "      number\n",
       "      Dimension(exponents=(0, 0, 0, 0, 0, 0, 0, 0, 0, 0), name='number', symbol='1')\n",
       "    Unit.named('one')\n",
       "  Quantity(magnitude=3.141592653589793, unit=Unit.named('one'))"
      ]
     },
     "execution_count": 7,
     "metadata": {},
     "output_type": "execute_result"
    }
   ],
   "source": [
    "physics.π"
   ]
  },
  {
   "cell_type": "code",
   "execution_count": 8,
   "id": "f41c635b",
   "metadata": {},
   "outputs": [
    {
     "data": {
      "text/html": [
       "<math><mrow><mn>1.0545718176461565e-34</mn><mo></mo><mfrac><mrow><msup><mrow><mi>m</mi></mrow><mn>2</mn></msup><mo>⋅</mo><msup><mrow><mi>kg</mi></mrow><mn></mn></msup></mrow><mrow><msup><mrow><mi>s</mi></mrow><mn></mn></msup></mrow></mfrac></mrow></math>"
      ],
      "text/plain": [
       "1.0545718176461565e-34 m²⋅kg/s\n",
       "  1.0545718176461565e-34\n",
       "  m²⋅kg/s\n",
       "    L²⋅T⁻¹⋅M\n",
       "      Dimension(exponents=(0, 2, -1, 1, 0, 0, 0, 0, 0, 0), name=None, symbol=None)\n",
       "    Unit(prefix=Prefix(base=0, exponent=0), factors={Unit.named('meter'): 2, Unit.named('kilogram'): 1, Unit.named('second'): -1}, dimension=Dimension(exponents=(0, 2, -1, 1, 0, 0, 0, 0, 0, 0), name=None, symbol=None), name=None, symbol=None)\n",
       "  Quantity(magnitude=1.0545718176461565e-34, unit=Unit(prefix=Prefix(base=0, exponent=0), factors={Unit.named('meter'): 2, Unit.named('kilogram'): 1, Unit.named('second'): -1}, dimension=Dimension(exponents=(0, 2, -1, 1, 0, 0, 0, 0, 0, 0), name=None, symbol=None), name=None, symbol=None))"
      ]
     },
     "execution_count": 8,
     "metadata": {},
     "output_type": "execute_result"
    }
   ],
   "source": [
    "physics.ħ"
   ]
  },
  {
   "cell_type": "code",
   "execution_count": 9,
   "id": "8ccadcb4",
   "metadata": {},
   "outputs": [
    {
     "data": {
      "text/html": [
       "<math><mrow><mn>10</mn><mo>⋅</mo><mi>dbW</mi></mrow></math>"
      ],
      "text/plain": [
       "10 dbW\n",
       "  10\n",
       "  dbW\n",
       "    LogarithmicUnit(logarithm=Logarithm(prefix=Prefix(base=10, exponent=-1), base=10, power_ratio=1, name='decibel', symbol='dB'), reference=Quantity(magnitude=1, unit=Unit.named('watt')))\n",
       "  Level(magnitude=10, unit=LogarithmicUnit(logarithm=Logarithm(prefix=Prefix(base=10, exponent=-1), base=10, power_ratio=1, name='decibel', symbol='dB'), reference=Quantity(magnitude=1, unit=Unit.named('watt'))))"
      ]
     },
     "execution_count": 9,
     "metadata": {},
     "output_type": "execute_result"
    }
   ],
   "source": [
    "10 * Decibel[1 * Watt]"
   ]
  },
  {
   "cell_type": "code",
   "execution_count": 10,
   "id": "2634e58b",
   "metadata": {},
   "outputs": [
    {
     "data": {
      "text/html": [
       "<math><mrow><mn>10</mn><mo>⋅</mo><mrow><mrow><mn>0.1</mn><mi>log10</mi><mo>(</mo><mfrac><mrow><msup><mi>x</mi><mn>1</mn></msup></mrow><mrow><msup><mi>x₀</mi><mn>1</mn></msup></mrow></mfrac><mo>)</mo></mrow><mo>of</mo><mrow><mn>1</mn><mo></mo><mi>m</mi></mrow></mrow></mrow></math>"
      ],
      "text/plain": [
       "10 0.1⋅log10(x/x₀) of 1 m\n",
       "  10\n",
       "  0.1⋅log10(x/x₀) of 1 m\n",
       "    LogarithmicUnit(logarithm=Logarithm(prefix=Prefix(base=10, exponent=-1), base=10, power_ratio=1, name='decibel', symbol='dB'), reference=Quantity(magnitude=1, unit=Unit.named('meter')))\n",
       "  Level(magnitude=10, unit=LogarithmicUnit(logarithm=Logarithm(prefix=Prefix(base=10, exponent=-1), base=10, power_ratio=1, name='decibel', symbol='dB'), reference=Quantity(magnitude=1, unit=Unit.named('meter'))))"
      ]
     },
     "execution_count": 10,
     "metadata": {},
     "output_type": "execute_result"
    }
   ],
   "source": [
    "10 * Decibel[1 * Meter]"
   ]
  }
 ],
 "metadata": {
  "kernelspec": {
   "display_name": "Python 3 (ipykernel)",
   "language": "python",
   "name": "python3"
  },
  "language_info": {
   "codemirror_mode": {
    "name": "ipython",
    "version": 3
   },
   "file_extension": ".py",
   "mimetype": "text/x-python",
   "name": "python",
   "nbconvert_exporter": "python",
   "pygments_lexer": "ipython3",
   "version": "3.10.4"
  }
 },
 "nbformat": 4,
 "nbformat_minor": 5
}
