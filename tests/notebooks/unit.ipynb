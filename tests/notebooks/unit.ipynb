{
 "cells": [
  {
   "cell_type": "code",
   "execution_count": 13,
   "id": "06d8324e",
   "metadata": {},
   "outputs": [],
   "source": [
    "from measured import *\n",
    "from measured.si import *"
   ]
  },
  {
   "cell_type": "code",
   "execution_count": 2,
   "id": "0c2913e2",
   "metadata": {},
   "outputs": [
    {
     "data": {
      "text/html": [
       "<math><mi>μ</mi></math>"
      ],
      "text/plain": [
       "Prefix(base=10, exponent=-6)"
      ]
     },
     "execution_count": 2,
     "metadata": {},
     "output_type": "execute_result"
    }
   ],
   "source": [
    "Micro"
   ]
  },
  {
   "cell_type": "code",
   "execution_count": 3,
   "id": "927ea4a4",
   "metadata": {},
   "outputs": [
    {
     "data": {
      "text/html": [
       "<math><msup><mn>10</mn><mn>4</mn></msup></math>"
      ],
      "text/plain": [
       "Prefix(base=10, exponent=4)"
      ]
     },
     "execution_count": 3,
     "metadata": {},
     "output_type": "execute_result"
    }
   ],
   "source": [
    "Prefix(10, 4)"
   ]
  },
  {
   "cell_type": "code",
   "execution_count": 4,
   "id": "99aa28b4",
   "metadata": {},
   "outputs": [
    {
     "data": {
      "text/html": [
       "<math><msup><mrow><mi>k</mi><mi>m</mi></mrow><mn></mn></msup></math>"
      ],
      "text/plain": [
       "Unit(prefix=Prefix(base=10, exponent=3), factors={Unit.named('meter'): 1}, dimension=Dimension(exponents=(0, 1, 0, 0, 0, 0, 0, 0, 0, 0), name='length', symbol='L'), name=None, symbol=None)"
      ]
     },
     "execution_count": 4,
     "metadata": {},
     "output_type": "execute_result"
    }
   ],
   "source": [
    "Kilo * Meter"
   ]
  },
  {
   "cell_type": "code",
   "execution_count": 29,
   "id": "bae86448",
   "metadata": {},
   "outputs": [
    {
     "data": {
      "text/html": [
       "<math><mfrac><mrow><msup><mrow><mi>k</mi><mi>m</mi></mrow><mn></mn></msup></mrow><mrow><msup><mrow><mi>s</mi></mrow><mn>2</mn></msup></mrow></mfrac></math>"
      ],
      "text/plain": [
       "Unit(prefix=Prefix(base=10, exponent=3), factors={Unit.named('meter'): 1, Unit.named('second'): -2}, dimension=Dimension(exponents=(0, 1, -2, 0, 0, 0, 0, 0, 0, 0), name='acceleration', symbol='L⋅T⁻²'), name=None, symbol=None)"
      ]
     },
     "execution_count": 29,
     "metadata": {},
     "output_type": "execute_result"
    }
   ],
   "source": [
    "(Kilo*Meter)/ Second**2"
   ]
  },
  {
   "cell_type": "code",
   "execution_count": 11,
   "id": "66aaff09",
   "metadata": {
    "scrolled": true
   },
   "outputs": [
    {
     "data": {
      "text/html": [
       "<math><mi>Ω</mi></math>"
      ],
      "text/plain": [
       "Unit.named('ohm')"
      ]
     },
     "execution_count": 11,
     "metadata": {},
     "output_type": "execute_result"
    }
   ],
   "source": [
    "Ohm"
   ]
  },
  {
   "cell_type": "code",
   "execution_count": 21,
   "id": "3ad20c13",
   "metadata": {
    "scrolled": true
   },
   "outputs": [
    {
     "data": {
      "text/html": [
       "<math><mfrac><mrow><msup><mrow><mi>m</mi></mrow><mn>14</mn></msup><mo>⋅</mo><msup><mrow><mi>kg</mi></mrow><mn>7</mn></msup></mrow><mrow><msup><mrow><mi>s</mi></mrow><mn>7</mn></msup><mo>⋅</mo><msup><mrow><mi>C</mi></mrow><mn>8</mn></msup></mrow></mfrac></math>"
      ],
      "text/plain": [
       "Unit(prefix=Prefix(base=0, exponent=0), factors={Unit.named('meter'): 14, Unit.named('kilogram'): 7, Unit.named('second'): -7, Unit.named('coulomb'): -8}, dimension=Dimension(exponents=(0, 14, -7, 7, 0, -8, 0, 0, 0, 0), name=None, symbol=None), name=None, symbol=None)"
      ]
     },
     "execution_count": 21,
     "metadata": {},
     "output_type": "execute_result"
    }
   ],
   "source": [
    "Ohm*Weber**6"
   ]
  }
 ],
 "metadata": {
  "kernelspec": {
   "display_name": "Python 3 (ipykernel)",
   "language": "python",
   "name": "python3"
  },
  "language_info": {
   "codemirror_mode": {
    "name": "ipython",
    "version": 3
   },
   "file_extension": ".py",
   "mimetype": "text/x-python",
   "name": "python",
   "nbconvert_exporter": "python",
   "pygments_lexer": "ipython3",
   "version": "3.10.4"
  }
 },
 "nbformat": 4,
 "nbformat_minor": 5
}
