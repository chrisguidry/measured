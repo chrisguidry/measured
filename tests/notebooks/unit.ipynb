{
 "cells": [
  {
   "cell_type": "code",
   "execution_count": 1,
   "id": "06d8324e",
   "metadata": {},
   "outputs": [],
   "source": [
    "from measured import *\n",
    "from measured.si import *\n",
    "from measured.iec import *"
   ]
  },
  {
   "cell_type": "code",
   "execution_count": 2,
   "id": "0c2913e2",
   "metadata": {},
   "outputs": [
    {
     "data": {
      "text/html": [
       "<math><mi>μ</mi></math>"
      ],
      "text/plain": [
       "μ\n",
       "  10⁻⁶\n",
       "  Prefix(base=10, exponent=-6)"
      ]
     },
     "execution_count": 2,
     "metadata": {},
     "output_type": "execute_result"
    }
   ],
   "source": [
    "Micro"
   ]
  },
  {
   "cell_type": "code",
   "execution_count": 3,
   "id": "927ea4a4",
   "metadata": {},
   "outputs": [
    {
     "data": {
      "text/html": [
       "<math><msup><mn>10</mn><mn>4</mn></msup></math>"
      ],
      "text/plain": [
       "10⁴\n",
       "  10⁴\n",
       "  Prefix(base=10, exponent=4)"
      ]
     },
     "execution_count": 3,
     "metadata": {},
     "output_type": "execute_result"
    }
   ],
   "source": [
    "Prefix(10, 4)"
   ]
  },
  {
   "cell_type": "code",
   "execution_count": 4,
   "id": "99aa28b4",
   "metadata": {},
   "outputs": [
    {
     "data": {
      "text/html": [
       "<math><mrow><msup><mrow><mi>k</mi><mi>m</mi></mrow><mn></mn></msup></mrow></math>"
      ],
      "text/plain": [
       "km\n",
       "  L\n",
       "    length\n",
       "    Dimension(exponents=(0, 1, 0, 0, 0, 0, 0, 0, 0, 0), name='length', symbol='L')\n",
       "  Unit(prefix=Prefix(base=10, exponent=3), factors={Unit.named('meter'): 1}, dimension=Dimension(exponents=(0, 1, 0, 0, 0, 0, 0, 0, 0, 0), name='length', symbol='L'), name=None, symbol=None)"
      ]
     },
     "execution_count": 4,
     "metadata": {},
     "output_type": "execute_result"
    }
   ],
   "source": [
    "Kilo * Meter"
   ]
  },
  {
   "cell_type": "code",
   "execution_count": 5,
   "id": "bae86448",
   "metadata": {},
   "outputs": [
    {
     "data": {
      "text/html": [
       "<math><mfrac><mrow><msup><mrow><mi>k</mi><mi>m</mi></mrow><mn></mn></msup></mrow><mrow><msup><mrow><mi>s</mi></mrow><mn>2</mn></msup></mrow></mfrac></math>"
      ],
      "text/plain": [
       "km/s²\n",
       "  L⋅T⁻²\n",
       "    acceleration\n",
       "    Dimension(exponents=(0, 1, -2, 0, 0, 0, 0, 0, 0, 0), name='acceleration', symbol='L⋅T⁻²')\n",
       "  Unit(prefix=Prefix(base=10, exponent=3), factors={Unit.named('meter'): 1, Unit.named('second'): -2}, dimension=Dimension(exponents=(0, 1, -2, 0, 0, 0, 0, 0, 0, 0), name='acceleration', symbol='L⋅T⁻²'), name=None, symbol=None)"
      ]
     },
     "execution_count": 5,
     "metadata": {},
     "output_type": "execute_result"
    }
   ],
   "source": [
    "(Kilo * Meter) / Second**2"
   ]
  },
  {
   "cell_type": "code",
   "execution_count": 6,
   "id": "66aaff09",
   "metadata": {
    "scrolled": true
   },
   "outputs": [
    {
     "data": {
      "text/html": [
       "<math><mi>Ω</mi></math>"
      ],
      "text/plain": [
       "Ω (m²⋅kg/s⋅C²)\n",
       "  ohm\n",
       "  L²⋅T⁻¹⋅M⋅Q⁻²\n",
       "    resistance\n",
       "    Dimension(exponents=(0, 2, -1, 1, 0, -2, 0, 0, 0, 0), name='resistance', symbol='L²⋅T⁻¹⋅M⋅Q⁻²')\n",
       "  Unit.named('ohm')"
      ]
     },
     "execution_count": 6,
     "metadata": {},
     "output_type": "execute_result"
    }
   ],
   "source": [
    "Ohm"
   ]
  },
  {
   "cell_type": "code",
   "execution_count": 7,
   "id": "3ad20c13",
   "metadata": {
    "scrolled": true
   },
   "outputs": [
    {
     "data": {
      "text/html": [
       "<math><mfrac><mrow><msup><mrow><mi>m</mi></mrow><mn>14</mn></msup><mo>⋅</mo><msup><mrow><mi>kg</mi></mrow><mn>7</mn></msup></mrow><mrow><msup><mrow><mi>s</mi></mrow><mn>7</mn></msup><mo>⋅</mo><msup><mrow><mi>C</mi></mrow><mn>8</mn></msup></mrow></mfrac></math>"
      ],
      "text/plain": [
       "m¹⁴⋅kg⁷/s⁷⋅C⁸\n",
       "  L¹⁴⋅T⁻⁷⋅M⁷⋅Q⁻⁸\n",
       "    Dimension(exponents=(0, 14, -7, 7, 0, -8, 0, 0, 0, 0), name=None, symbol=None)\n",
       "  Unit(prefix=Prefix(base=0, exponent=0), factors={Unit.named('meter'): 14, Unit.named('kilogram'): 7, Unit.named('second'): -7, Unit.named('coulomb'): -8}, dimension=Dimension(exponents=(0, 14, -7, 7, 0, -8, 0, 0, 0, 0), name=None, symbol=None), name=None, symbol=None)"
      ]
     },
     "execution_count": 7,
     "metadata": {},
     "output_type": "execute_result"
    }
   ],
   "source": [
    "Ohm * Weber**6"
   ]
  },
  {
   "cell_type": "code",
   "execution_count": 8,
   "id": "cbf220e3",
   "metadata": {},
   "outputs": [
    {
     "data": {
      "text/html": [
       "<math><mi>dB</mi></math>"
      ],
      "text/plain": [
       "dB\n",
       "  Logarithm(prefix=Prefix(base=10, exponent=-1), base=10, power_ratio=1, name='decibel', symbol='dB')"
      ]
     },
     "execution_count": 8,
     "metadata": {},
     "output_type": "execute_result"
    }
   ],
   "source": [
    "Decibel"
   ]
  },
  {
   "cell_type": "code",
   "execution_count": 9,
   "id": "ae11983a",
   "metadata": {},
   "outputs": [
    {
     "data": {
      "text/html": [
       "<math><mi>dbW</mi></math>"
      ],
      "text/plain": [
       "dbW\n",
       "  LogarithmicUnit(logarithm=Logarithm(prefix=Prefix(base=10, exponent=-1), base=10, power_ratio=1, name='decibel', symbol='dB'), reference=Quantity(magnitude=1, unit=Unit.named('watt')))"
      ]
     },
     "execution_count": 9,
     "metadata": {},
     "output_type": "execute_result"
    }
   ],
   "source": [
    "Decibel[1 * Watt]"
   ]
  },
  {
   "cell_type": "code",
   "execution_count": 10,
   "id": "2c6fa1e3",
   "metadata": {},
   "outputs": [
    {
     "data": {
      "text/html": [
       "<math><mrow><mi>dB</mi><mo>of</mo><mrow><mn>1</mn><mo></mo><mi>m</mi></mrow></mrow></math>"
      ],
      "text/plain": [
       "dB of 1 m\n",
       "  LogarithmicUnit(logarithm=Logarithm(prefix=Prefix(base=10, exponent=-1), base=10, power_ratio=1, name='decibel', symbol='dB'), reference=Quantity(magnitude=1, unit=Unit.named('meter')))"
      ]
     },
     "execution_count": 10,
     "metadata": {},
     "output_type": "execute_result"
    }
   ],
   "source": [
    "Decibel[1 * Meter]"
   ]
  }
 ],
 "metadata": {
  "kernelspec": {
   "display_name": "Python 3 (ipykernel)",
   "language": "python",
   "name": "python3"
  },
  "language_info": {
   "codemirror_mode": {
    "name": "ipython",
    "version": 3
   },
   "file_extension": ".py",
   "mimetype": "text/x-python",
   "name": "python",
   "nbconvert_exporter": "python",
   "pygments_lexer": "ipython3",
   "version": "3.10.4"
  }
 },
 "nbformat": 4,
 "nbformat_minor": 5
}
